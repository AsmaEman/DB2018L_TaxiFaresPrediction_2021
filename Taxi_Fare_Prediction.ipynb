{
  "nbformat": 4,
  "nbformat_minor": 0,
  "metadata": {
    "colab": {
      "name": "Taxi_Fare_Prediction.ipynb",
      "provenance": [],
      "collapsed_sections": []
    },
    "kernelspec": {
      "name": "python3",
      "display_name": "Python 3"
    }
  },
  "cells": [
    {
      "cell_type": "markdown",
      "metadata": {
        "id": "U5JUMgc_gbHp"
      },
      "source": [
        "# CS145: Project 3 | Project Name"
      ]
    },
    {
      "cell_type": "markdown",
      "metadata": {
        "id": "EHDiv4GrhofN"
      },
      "source": [
        "## Collaborators:\n",
        "Please list the names and SUNet IDs of your collaborators below:\n",
        "* *Sumaiya Babar, 2018-CE-229*\n",
        "* *Asma Eman, 2018-CE-240*\n"
      ]
    },
    {
      "cell_type": "markdown",
      "metadata": {
        "id": "gMNQWFvSgepX"
      },
      "source": [
        "## Project Overview"
      ]
    },
    {
      "cell_type": "markdown",
      "metadata": {
        "id": "lX1Jkglwg1SI"
      },
      "source": [
        "---\n",
        "\n",
        "*In this project we have analyzed which factors do play their part on Fare Prediction. For this purpose we are opt to apply one of the machine learning technique i.e. Linear Regression . The coming trip expenditures can be calculated by given factors such as Distance Travelled, trip duration and trip fare. in a scenario the customer pays cash, the tips may not be recorded in the dataset. Thus, we will predict the tips that were payed by cash and have left as zero in the dataset.*\n",
        "\n",
        "---\n"
      ]
    },
    {
      "cell_type": "markdown",
      "metadata": {
        "id": "r_GvgTCcgv6N"
      },
      "source": [
        "## Analysis of Dataset"
      ]
    },
    {
      "cell_type": "markdown",
      "metadata": {
        "id": "c6wGQ8ZPgyuJ"
      },
      "source": [
        "---\n",
        "\n",
        "*The dataset for bigquery-public-data.chicago_taxi_trips only contains 1 table - taxi_trips. The table size is 67.71 GB. There are 187,002,005 rows. The table contains information about the pickup and dropoff time and location, the fare amount, tolls, and the total cost of the trip, and the trip duration and total distance traveled as well as different taxi companies.*\n",
        "\n",
        "----"
      ]
    },
    {
      "cell_type": "code",
      "metadata": {
        "id": "QUkIPp7mNTl7"
      },
      "source": [
        "# Run this cell to authenticate yourself to BigQuery\n",
        "from google.colab import auth\n",
        "auth.authenticate_user()\n",
        "project_id = \"emerald-griffin-321112\""
      ],
      "execution_count": null,
      "outputs": []
    },
    {
      "cell_type": "code",
      "metadata": {
        "id": "WViXssGaNjpN"
      },
      "source": [
        "# Initialize BiqQuery client\n",
        "from google.cloud import bigquery\n",
        "client = bigquery.Client(project=project_id)"
      ],
      "execution_count": null,
      "outputs": []
    },
    {
      "cell_type": "code",
      "metadata": {
        "id": "N3jzWlLeNn2F"
      },
      "source": [
        "%matplotlib inline\n",
        "# Add imports for any visualization libraries you may need\n",
        "import matplotlib.pyplot as plt"
      ],
      "execution_count": null,
      "outputs": []
    },
    {
      "cell_type": "code",
      "metadata": {
        "id": "VLwGhcXrNuNa",
        "colab": {
          "base_uri": "https://localhost:8080/"
        },
        "outputId": "f81c77a1-273b-41a2-c0b9-05a8065c21bd"
      },
      "source": [
        "# Run this cell to create a dataset to store your model, or create in the UI\n",
        "\n",
        "model_dataset_name = 'chicago_taxi_fare'\n",
        "\n",
        "dataset = bigquery.Dataset(client.dataset(model_dataset_name))\n",
        "dataset.location = 'US'\n",
        "client.create_dataset(dataset)"
      ],
      "execution_count": null,
      "outputs": [
        {
          "output_type": "execute_result",
          "data": {
            "text/plain": [
              "Dataset(DatasetReference('emerald-griffin-321112', 'chicago_taxi_fare'))"
            ]
          },
          "metadata": {
            "tags": []
          },
          "execution_count": 4
        }
      ]
    },
    {
      "cell_type": "markdown",
      "metadata": {
        "id": "Fc_clta9g3H5"
      },
      "source": [
        "## Data Exploration"
      ]
    },
    {
      "cell_type": "markdown",
      "metadata": {
        "id": "OsMMIDrjg_YG"
      },
      "source": [
        "---\n",
        "\n",
        "*To make sure that our data is normalized for training, we assume trip distance, trip duration, trip fare and taxi company have finite value by filtering out all rows containing NULL value(s) and removing non-related columns. The following table is a sample of cleaned dataset. We will use this dataset for data exploration and prediction.*\n",
        "\n",
        "---"
      ]
    },
    {
      "cell_type": "code",
      "metadata": {
        "id": "bNqXFAlsOWmD"
      },
      "source": [
        "SELECT trip_start_timestamp,\n",
        "trip_end_timestamp,\n",
        "trip_seconds,\n",
        "trip_miles,\n",
        "fare,\n",
        "tips,\n",
        "trip_total,\n",
        "payment_type,\n",
        "company,\n",
        "pickup_latitude, pickup_longitude, dropoff_latitude, dropoff_longitude\n",
        "FROM `bigquery-public-data.chicago_taxi_trips.taxi_trips`\n",
        "WHERE trip_seconds>0\n",
        "AND trip_miles>0\n",
        "AND fare>0\n",
        "AND trip_total>0\n",
        "AND payment_type IS NOT NULL\n",
        "AND company IS NOT NULL\n",
        "AND pickup_latitude IS NOT NULL\n",
        "AND pickup_longitude IS NOT NULL\n",
        "AND dropoff_latitude IS NOT NULL\n",
        "AND dropoff_longitude IS NOT NULL"
      ],
      "execution_count": null,
      "outputs": []
    },
    {
      "cell_type": "code",
      "metadata": {
        "colab": {
          "base_uri": "https://localhost:8080/",
          "height": 719
        },
        "id": "_6PjeWRSOcJ0",
        "outputId": "8f4814e5-1a74-4d58-cad1-26b33ad464a3"
      },
      "source": [
        "%%bigquery --project $project_id\n",
        "SELECT *\n",
        "FROM `bigquery-public-data.chicago_taxi_trips.taxi_trips`\n",
        "LIMIT 10"
      ],
      "execution_count": null,
      "outputs": [
        {
          "output_type": "execute_result",
          "data": {
            "text/html": [
              "<div>\n",
              "<style scoped>\n",
              "    .dataframe tbody tr th:only-of-type {\n",
              "        vertical-align: middle;\n",
              "    }\n",
              "\n",
              "    .dataframe tbody tr th {\n",
              "        vertical-align: top;\n",
              "    }\n",
              "\n",
              "    .dataframe thead th {\n",
              "        text-align: right;\n",
              "    }\n",
              "</style>\n",
              "<table border=\"1\" class=\"dataframe\">\n",
              "  <thead>\n",
              "    <tr style=\"text-align: right;\">\n",
              "      <th></th>\n",
              "      <th>unique_key</th>\n",
              "      <th>taxi_id</th>\n",
              "      <th>trip_start_timestamp</th>\n",
              "      <th>trip_end_timestamp</th>\n",
              "      <th>trip_seconds</th>\n",
              "      <th>trip_miles</th>\n",
              "      <th>pickup_census_tract</th>\n",
              "      <th>dropoff_census_tract</th>\n",
              "      <th>pickup_community_area</th>\n",
              "      <th>dropoff_community_area</th>\n",
              "      <th>fare</th>\n",
              "      <th>tips</th>\n",
              "      <th>tolls</th>\n",
              "      <th>extras</th>\n",
              "      <th>trip_total</th>\n",
              "      <th>payment_type</th>\n",
              "      <th>company</th>\n",
              "      <th>pickup_latitude</th>\n",
              "      <th>pickup_longitude</th>\n",
              "      <th>pickup_location</th>\n",
              "      <th>dropoff_latitude</th>\n",
              "      <th>dropoff_longitude</th>\n",
              "      <th>dropoff_location</th>\n",
              "    </tr>\n",
              "  </thead>\n",
              "  <tbody>\n",
              "    <tr>\n",
              "      <th>0</th>\n",
              "      <td>e5a43898bc158ed36b1e106000bb346f382cf3d5</td>\n",
              "      <td>374daef85c3438787be7fa1399d4a3fc39670fa8b6b946...</td>\n",
              "      <td>2013-05-31 00:45:00+00:00</td>\n",
              "      <td>2013-05-31 00:45:00+00:00</td>\n",
              "      <td>0.0</td>\n",
              "      <td>0.0</td>\n",
              "      <td>None</td>\n",
              "      <td>None</td>\n",
              "      <td>None</td>\n",
              "      <td>None</td>\n",
              "      <td>32.85</td>\n",
              "      <td>5.00</td>\n",
              "      <td>0.0</td>\n",
              "      <td>0.0</td>\n",
              "      <td>37.85</td>\n",
              "      <td>Credit Card</td>\n",
              "      <td>Taxi Affiliation Services</td>\n",
              "      <td>None</td>\n",
              "      <td>None</td>\n",
              "      <td>None</td>\n",
              "      <td>None</td>\n",
              "      <td>None</td>\n",
              "      <td>None</td>\n",
              "    </tr>\n",
              "    <tr>\n",
              "      <th>1</th>\n",
              "      <td>614072e4ed5ffa07906bb2f955c276c536cf1886</td>\n",
              "      <td>ecbd0442d6b871f22f17122917c37190e9aaf098687b39...</td>\n",
              "      <td>2013-06-02 02:00:00+00:00</td>\n",
              "      <td>2013-06-02 02:00:00+00:00</td>\n",
              "      <td>180.0</td>\n",
              "      <td>0.0</td>\n",
              "      <td>None</td>\n",
              "      <td>None</td>\n",
              "      <td>None</td>\n",
              "      <td>None</td>\n",
              "      <td>4.65</td>\n",
              "      <td>0.00</td>\n",
              "      <td>0.0</td>\n",
              "      <td>1.0</td>\n",
              "      <td>5.65</td>\n",
              "      <td>Cash</td>\n",
              "      <td>Choice Taxi Association</td>\n",
              "      <td>None</td>\n",
              "      <td>None</td>\n",
              "      <td>None</td>\n",
              "      <td>None</td>\n",
              "      <td>None</td>\n",
              "      <td>None</td>\n",
              "    </tr>\n",
              "    <tr>\n",
              "      <th>2</th>\n",
              "      <td>93b79cc43231b49e384fdf9562b44e0995540bad</td>\n",
              "      <td>5e48748b582fe3c16baf5ac371a27773e8aef2927f3344...</td>\n",
              "      <td>2013-05-30 22:45:00+00:00</td>\n",
              "      <td>2013-05-30 22:45:00+00:00</td>\n",
              "      <td>0.0</td>\n",
              "      <td>0.0</td>\n",
              "      <td>None</td>\n",
              "      <td>None</td>\n",
              "      <td>None</td>\n",
              "      <td>None</td>\n",
              "      <td>7.85</td>\n",
              "      <td>1.57</td>\n",
              "      <td>0.0</td>\n",
              "      <td>0.0</td>\n",
              "      <td>9.42</td>\n",
              "      <td>Credit Card</td>\n",
              "      <td>Chicago Elite Cab Corp.</td>\n",
              "      <td>None</td>\n",
              "      <td>None</td>\n",
              "      <td>None</td>\n",
              "      <td>None</td>\n",
              "      <td>None</td>\n",
              "      <td>None</td>\n",
              "    </tr>\n",
              "    <tr>\n",
              "      <th>3</th>\n",
              "      <td>f3e0f3546b725eb920cb70101deec1834a158ad6</td>\n",
              "      <td>7f8be35bf085d7490245401fe27b274624245d8e76ae11...</td>\n",
              "      <td>2013-05-31 13:15:00+00:00</td>\n",
              "      <td>2013-05-31 13:15:00+00:00</td>\n",
              "      <td>NaN</td>\n",
              "      <td>0.0</td>\n",
              "      <td>None</td>\n",
              "      <td>None</td>\n",
              "      <td>None</td>\n",
              "      <td>None</td>\n",
              "      <td>7.85</td>\n",
              "      <td>1.57</td>\n",
              "      <td>0.0</td>\n",
              "      <td>0.0</td>\n",
              "      <td>9.42</td>\n",
              "      <td>Credit Card</td>\n",
              "      <td>Chicago Elite Cab Corp.</td>\n",
              "      <td>None</td>\n",
              "      <td>None</td>\n",
              "      <td>None</td>\n",
              "      <td>None</td>\n",
              "      <td>None</td>\n",
              "      <td>None</td>\n",
              "    </tr>\n",
              "    <tr>\n",
              "      <th>4</th>\n",
              "      <td>07b34e999c0238794aa692238ae694310b5b9a2a</td>\n",
              "      <td>bc77aa4e4ea60e032d26d6ef6d8e73d49b985a2e7240c4...</td>\n",
              "      <td>2013-05-29 22:15:00+00:00</td>\n",
              "      <td>2013-05-29 22:15:00+00:00</td>\n",
              "      <td>0.0</td>\n",
              "      <td>0.0</td>\n",
              "      <td>None</td>\n",
              "      <td>None</td>\n",
              "      <td>None</td>\n",
              "      <td>None</td>\n",
              "      <td>39.05</td>\n",
              "      <td>7.81</td>\n",
              "      <td>0.0</td>\n",
              "      <td>0.0</td>\n",
              "      <td>46.86</td>\n",
              "      <td>Credit Card</td>\n",
              "      <td>Chicago Elite Cab Corp.</td>\n",
              "      <td>None</td>\n",
              "      <td>None</td>\n",
              "      <td>None</td>\n",
              "      <td>None</td>\n",
              "      <td>None</td>\n",
              "      <td>None</td>\n",
              "    </tr>\n",
              "    <tr>\n",
              "      <th>5</th>\n",
              "      <td>1ee13c79df664083f10b5bd9706de56169d33df6</td>\n",
              "      <td>7274daf07dd4da878465e03ee2f72165d7e044bcde1c2c...</td>\n",
              "      <td>2013-05-28 08:45:00+00:00</td>\n",
              "      <td>2013-05-28 08:30:00+00:00</td>\n",
              "      <td>NaN</td>\n",
              "      <td>0.0</td>\n",
              "      <td>None</td>\n",
              "      <td>None</td>\n",
              "      <td>None</td>\n",
              "      <td>None</td>\n",
              "      <td>10.85</td>\n",
              "      <td>1.00</td>\n",
              "      <td>0.0</td>\n",
              "      <td>0.0</td>\n",
              "      <td>11.85</td>\n",
              "      <td>Credit Card</td>\n",
              "      <td>Taxi Affiliation Services</td>\n",
              "      <td>None</td>\n",
              "      <td>None</td>\n",
              "      <td>None</td>\n",
              "      <td>None</td>\n",
              "      <td>None</td>\n",
              "      <td>None</td>\n",
              "    </tr>\n",
              "    <tr>\n",
              "      <th>6</th>\n",
              "      <td>b8903d18ddeab9e4d69ca2d9883d072e075ec182</td>\n",
              "      <td>d95b99518116b5f943d75828e78c02e668ec6add7d28ba...</td>\n",
              "      <td>2013-07-20 04:00:00+00:00</td>\n",
              "      <td>2013-07-20 04:15:00+00:00</td>\n",
              "      <td>1200.0</td>\n",
              "      <td>0.0</td>\n",
              "      <td>None</td>\n",
              "      <td>None</td>\n",
              "      <td>None</td>\n",
              "      <td>None</td>\n",
              "      <td>23.65</td>\n",
              "      <td>5.91</td>\n",
              "      <td>0.0</td>\n",
              "      <td>0.0</td>\n",
              "      <td>29.56</td>\n",
              "      <td>No Charge</td>\n",
              "      <td>Chicago Elite Cab Corp.</td>\n",
              "      <td>None</td>\n",
              "      <td>None</td>\n",
              "      <td>None</td>\n",
              "      <td>None</td>\n",
              "      <td>None</td>\n",
              "      <td>None</td>\n",
              "    </tr>\n",
              "    <tr>\n",
              "      <th>7</th>\n",
              "      <td>4aeed775970a30fd7da6dadd2550c6612a6ad946</td>\n",
              "      <td>a44086df314a5d983b8f1029ac487a6c6d4bc5341b945f...</td>\n",
              "      <td>2013-05-31 01:00:00+00:00</td>\n",
              "      <td>2013-05-31 01:00:00+00:00</td>\n",
              "      <td>0.0</td>\n",
              "      <td>0.0</td>\n",
              "      <td>None</td>\n",
              "      <td>None</td>\n",
              "      <td>None</td>\n",
              "      <td>None</td>\n",
              "      <td>11.25</td>\n",
              "      <td>2.00</td>\n",
              "      <td>0.0</td>\n",
              "      <td>0.0</td>\n",
              "      <td>13.25</td>\n",
              "      <td>Credit Card</td>\n",
              "      <td>Chicago Elite Cab Corp.</td>\n",
              "      <td>None</td>\n",
              "      <td>None</td>\n",
              "      <td>None</td>\n",
              "      <td>None</td>\n",
              "      <td>None</td>\n",
              "      <td>None</td>\n",
              "    </tr>\n",
              "    <tr>\n",
              "      <th>8</th>\n",
              "      <td>f9f0365780ed971fdc5e0958122786027d5a2040</td>\n",
              "      <td>7cda3cbbf6cc9524c807fb5ec5e4ca397f1b736fa2f8a2...</td>\n",
              "      <td>2013-05-30 17:45:00+00:00</td>\n",
              "      <td>2013-05-30 17:45:00+00:00</td>\n",
              "      <td>0.0</td>\n",
              "      <td>0.0</td>\n",
              "      <td>None</td>\n",
              "      <td>None</td>\n",
              "      <td>None</td>\n",
              "      <td>None</td>\n",
              "      <td>14.35</td>\n",
              "      <td>0.00</td>\n",
              "      <td>0.0</td>\n",
              "      <td>0.0</td>\n",
              "      <td>14.35</td>\n",
              "      <td>No Charge</td>\n",
              "      <td>Taxi Affiliation Services</td>\n",
              "      <td>None</td>\n",
              "      <td>None</td>\n",
              "      <td>None</td>\n",
              "      <td>None</td>\n",
              "      <td>None</td>\n",
              "      <td>None</td>\n",
              "    </tr>\n",
              "    <tr>\n",
              "      <th>9</th>\n",
              "      <td>f3fdabcbf36a71ddc53d1de1967b2fb613834bc4</td>\n",
              "      <td>7b71bd5b43b70999e3c9e047b26bdb5d01cd3ed9362c3b...</td>\n",
              "      <td>2013-05-30 19:15:00+00:00</td>\n",
              "      <td>2013-05-30 19:15:00+00:00</td>\n",
              "      <td>60.0</td>\n",
              "      <td>0.0</td>\n",
              "      <td>None</td>\n",
              "      <td>None</td>\n",
              "      <td>None</td>\n",
              "      <td>None</td>\n",
              "      <td>3.25</td>\n",
              "      <td>0.00</td>\n",
              "      <td>0.0</td>\n",
              "      <td>6.5</td>\n",
              "      <td>9.75</td>\n",
              "      <td>No Charge</td>\n",
              "      <td>Dispatch Taxi Affiliation</td>\n",
              "      <td>None</td>\n",
              "      <td>None</td>\n",
              "      <td>None</td>\n",
              "      <td>None</td>\n",
              "      <td>None</td>\n",
              "      <td>None</td>\n",
              "    </tr>\n",
              "  </tbody>\n",
              "</table>\n",
              "</div>"
            ],
            "text/plain": [
              "                                 unique_key  ... dropoff_location\n",
              "0  e5a43898bc158ed36b1e106000bb346f382cf3d5  ...             None\n",
              "1  614072e4ed5ffa07906bb2f955c276c536cf1886  ...             None\n",
              "2  93b79cc43231b49e384fdf9562b44e0995540bad  ...             None\n",
              "3  f3e0f3546b725eb920cb70101deec1834a158ad6  ...             None\n",
              "4  07b34e999c0238794aa692238ae694310b5b9a2a  ...             None\n",
              "5  1ee13c79df664083f10b5bd9706de56169d33df6  ...             None\n",
              "6  b8903d18ddeab9e4d69ca2d9883d072e075ec182  ...             None\n",
              "7  4aeed775970a30fd7da6dadd2550c6612a6ad946  ...             None\n",
              "8  f9f0365780ed971fdc5e0958122786027d5a2040  ...             None\n",
              "9  f3fdabcbf36a71ddc53d1de1967b2fb613834bc4  ...             None\n",
              "\n",
              "[10 rows x 23 columns]"
            ]
          },
          "metadata": {
            "tags": []
          },
          "execution_count": 6
        }
      ]
    },
    {
      "cell_type": "code",
      "metadata": {
        "id": "qsFrxVZDOmCN"
      },
      "source": [
        "%%bigquery --project $project_id miles_tips\n",
        "SELECT DISTINCT trip_miles, tips\n",
        "FROM `bigquery-public-data.chicago_taxi_trips.taxi_trips`\n",
        "WHERE tips>0"
      ],
      "execution_count": null,
      "outputs": []
    },
    {
      "cell_type": "code",
      "metadata": {
        "colab": {
          "base_uri": "https://localhost:8080/",
          "height": 486
        },
        "id": "zHTF4FcVO3AO",
        "outputId": "db135b98-5980-4785-ce0a-d13a1d5dfec9"
      },
      "source": [
        "miles_tips_sub = miles_tips.sample(2000)\n",
        "plt.figure(figsize=(13, 7))\n",
        "plt.scatter(miles_tips_sub[\"trip_miles\"], miles_tips_sub[\"tips\"], s=5)\n",
        "plt.yscale('symlog')\n",
        "plt.xscale('symlog')\n",
        "plt.xlabel('miles traveled', fontsize=15)\n",
        "plt.ylabel('tips (USD)', fontsize=15)\n",
        "plt.title('Trip miles vs Tips', fontsize=15)"
      ],
      "execution_count": null,
      "outputs": [
        {
          "output_type": "execute_result",
          "data": {
            "text/plain": [
              "Text(0.5, 1.0, 'Trip miles vs Tips')"
            ]
          },
          "metadata": {
            "tags": []
          },
          "execution_count": 8
        },
        {
          "output_type": "display_data",
          "data": {
            "image/png": "[encoded data removed]",
            "text/plain": [
              "<Figure size 936x504 with 1 Axes>"
            ]
          },
          "metadata": {
            "tags": [],
            "needs_background": "light"
          }
        }
      ]
    },
    {
      "cell_type": "code",
      "metadata": {
        "id": "cByPBtQzPGF8"
      },
      "source": [
        "%%bigquery --project $project_id seconds_tips\n",
        "SELECT DISTINCT trip_seconds, tips\n",
        "FROM `bigquery-public-data.chicago_taxi_trips.taxi_trips`\n",
        "WHERE tips>0"
      ],
      "execution_count": null,
      "outputs": []
    },
    {
      "cell_type": "code",
      "metadata": {
        "colab": {
          "base_uri": "https://localhost:8080/",
          "height": 486
        },
        "id": "vW_sOmkOPaoT",
        "outputId": "560909a6-9a06-4c89-daec-770636422fb8"
      },
      "source": [
        "seconds_tips_sub = seconds_tips.sample(2000)\n",
        "plt.figure(figsize=(13, 7))\n",
        "plt.scatter(seconds_tips_sub[\"trip_seconds\"], seconds_tips_sub[\"tips\"], s=5)\n",
        "plt.yscale('symlog')\n",
        "plt.xscale('symlog')\n",
        "plt.xlabel('trip duration (s)', fontsize=15)\n",
        "plt.ylabel('tips (USD)', fontsize=15)\n",
        "plt.title('Trip duration vs Tips', fontsize=15)"
      ],
      "execution_count": null,
      "outputs": [
        {
          "output_type": "execute_result",
          "data": {
            "text/plain": [
              "Text(0.5, 1.0, 'Trip duration vs Tips')"
            ]
          },
          "metadata": {
            "tags": []
          },
          "execution_count": 10
        },
        {
          "output_type": "display_data",
          "data": {
            "image/png": "[encoded data removed]",
            "text/plain": [
              "<Figure size 936x504 with 1 Axes>"
            ]
          },
          "metadata": {
            "tags": [],
            "needs_background": "light"
          }
        }
      ]
    },
    {
      "cell_type": "code",
      "metadata": {
        "id": "A-tqwEytPlaf"
      },
      "source": [
        "%%bigquery --project $project_id fare_tips\n",
        "SELECT DISTINCT fare, tips\n",
        "FROM `bigquery-public-data.chicago_taxi_trips.taxi_trips`\n",
        "WHERE tips>0"
      ],
      "execution_count": null,
      "outputs": []
    },
    {
      "cell_type": "code",
      "metadata": {
        "colab": {
          "base_uri": "https://localhost:8080/",
          "height": 486
        },
        "id": "ylsgU3OdPwzm",
        "outputId": "0d5e8ede-adc1-4eaa-e757-9f7bc5c1b5d3"
      },
      "source": [
        "fare_tips_sub = fare_tips.sample(2000)\n",
        "plt.figure(figsize=(13, 7))\n",
        "plt.scatter(fare_tips_sub[\"fare\"], fare_tips_sub[\"tips\"], s=5)\n",
        "plt.yscale('symlog')\n",
        "plt.xscale('symlog')\n",
        "plt.xlabel('trip fare (USD)', fontsize=15)\n",
        "plt.ylabel('tips (USD)', fontsize=15)\n",
        "plt.title('Trip fare vs Tips', fontsize=15)"
      ],
      "execution_count": null,
      "outputs": [
        {
          "output_type": "execute_result",
          "data": {
            "text/plain": [
              "Text(0.5, 1.0, 'Trip fare vs Tips')"
            ]
          },
          "metadata": {
            "tags": []
          },
          "execution_count": 12
        },
        {
          "output_type": "display_data",
          "data": {
            "image/png": "[encoded data removed]",
            "text/plain": [
              "<Figure size 936x504 with 1 Axes>"
            ]
          },
          "metadata": {
            "tags": [],
            "needs_background": "light"
          }
        }
      ]
    },
    {
      "cell_type": "code",
      "metadata": {
        "colab": {
          "base_uri": "https://localhost:8080/",
          "height": 359
        },
        "id": "s3rNJm78PzNg",
        "outputId": "f799a580-e832-4fee-cbfc-861737b65df5"
      },
      "source": [
        "%%bigquery --project $project_id\n",
        "SELECT company, COUNT(*) count, AVG(tips) avg_tips\n",
        "FROM `bigquery-public-data.chicago_taxi_trips.taxi_trips`\n",
        "WHERE tips>0 AND trip_miles>0 AND company IS NOT NULL\n",
        "GROUP BY company\n",
        "ORDER BY count DESC\n",
        "LIMIT 10"
      ],
      "execution_count": null,
      "outputs": [
        {
          "output_type": "execute_result",
          "data": {
            "text/html": [
              "<div>\n",
              "<style scoped>\n",
              "    .dataframe tbody tr th:only-of-type {\n",
              "        vertical-align: middle;\n",
              "    }\n",
              "\n",
              "    .dataframe tbody tr th {\n",
              "        vertical-align: top;\n",
              "    }\n",
              "\n",
              "    .dataframe thead th {\n",
              "        text-align: right;\n",
              "    }\n",
              "</style>\n",
              "<table border=\"1\" class=\"dataframe\">\n",
              "  <thead>\n",
              "    <tr style=\"text-align: right;\">\n",
              "      <th></th>\n",
              "      <th>company</th>\n",
              "      <th>count</th>\n",
              "      <th>avg_tips</th>\n",
              "    </tr>\n",
              "  </thead>\n",
              "  <tbody>\n",
              "    <tr>\n",
              "      <th>0</th>\n",
              "      <td>Taxi Affiliation Services</td>\n",
              "      <td>9669788</td>\n",
              "      <td>3.820970</td>\n",
              "    </tr>\n",
              "    <tr>\n",
              "      <th>1</th>\n",
              "      <td>Flash Cab</td>\n",
              "      <td>6214400</td>\n",
              "      <td>3.539800</td>\n",
              "    </tr>\n",
              "    <tr>\n",
              "      <th>2</th>\n",
              "      <td>Yellow Cab</td>\n",
              "      <td>3877946</td>\n",
              "      <td>3.198646</td>\n",
              "    </tr>\n",
              "    <tr>\n",
              "      <th>3</th>\n",
              "      <td>Chicago Carriage Cab Corp</td>\n",
              "      <td>3537433</td>\n",
              "      <td>3.922769</td>\n",
              "    </tr>\n",
              "    <tr>\n",
              "      <th>4</th>\n",
              "      <td>Dispatch Taxi Affiliation</td>\n",
              "      <td>3079220</td>\n",
              "      <td>3.378661</td>\n",
              "    </tr>\n",
              "    <tr>\n",
              "      <th>5</th>\n",
              "      <td>Choice Taxi Association</td>\n",
              "      <td>2882806</td>\n",
              "      <td>3.753596</td>\n",
              "    </tr>\n",
              "    <tr>\n",
              "      <th>6</th>\n",
              "      <td>Sun Taxi</td>\n",
              "      <td>2471739</td>\n",
              "      <td>4.103353</td>\n",
              "    </tr>\n",
              "    <tr>\n",
              "      <th>7</th>\n",
              "      <td>City Service</td>\n",
              "      <td>2439335</td>\n",
              "      <td>3.932554</td>\n",
              "    </tr>\n",
              "    <tr>\n",
              "      <th>8</th>\n",
              "      <td>Medallion Leasin</td>\n",
              "      <td>2071039</td>\n",
              "      <td>3.954155</td>\n",
              "    </tr>\n",
              "    <tr>\n",
              "      <th>9</th>\n",
              "      <td>Taxi Affiliation Service Yellow</td>\n",
              "      <td>1513190</td>\n",
              "      <td>3.958902</td>\n",
              "    </tr>\n",
              "  </tbody>\n",
              "</table>\n",
              "</div>"
            ],
            "text/plain": [
              "                           company    count  avg_tips\n",
              "0        Taxi Affiliation Services  9669788  3.820970\n",
              "1                        Flash Cab  6214400  3.539800\n",
              "2                       Yellow Cab  3877946  3.198646\n",
              "3        Chicago Carriage Cab Corp  3537433  3.922769\n",
              "4        Dispatch Taxi Affiliation  3079220  3.378661\n",
              "5          Choice Taxi Association  2882806  3.753596\n",
              "6                         Sun Taxi  2471739  4.103353\n",
              "7                     City Service  2439335  3.932554\n",
              "8                 Medallion Leasin  2071039  3.954155\n",
              "9  Taxi Affiliation Service Yellow  1513190  3.958902"
            ]
          },
          "metadata": {
            "tags": []
          },
          "execution_count": 13
        }
      ]
    },
    {
      "cell_type": "markdown",
      "metadata": {
        "id": "l3u2h-N3QFWT"
      },
      "source": [
        "**So our first question to be answered was which company will get more previliges and on what basis ?**\n",
        "\n",
        "*The answere to above question is that the company will receive more incentive and previligeson the terms of tips , means the more tips a company gets on average the more it will prosper in future as tips is depending on satisfaction of the rider.*\n"
      ]
    },
    {
      "cell_type": "code",
      "metadata": {
        "id": "5Lej3q86QEch"
      },
      "source": [
        "%%bigquery --project $project_id miles_tips_yc\n",
        "SELECT DISTINCT trip_miles, tips\n",
        "FROM `bigquery-public-data.chicago_taxi_trips.taxi_trips`\n",
        "WHERE tips>0 AND company LIKE 'Yellow Cab'"
      ],
      "execution_count": null,
      "outputs": []
    },
    {
      "cell_type": "code",
      "metadata": {
        "colab": {
          "base_uri": "https://localhost:8080/",
          "height": 486
        },
        "id": "Gnq5WZoeQ69V",
        "outputId": "e5968b4a-ae79-40b6-eac9-f381cde51ee5"
      },
      "source": [
        "miles_tips_yc_sub = miles_tips_yc.sample(2000)\n",
        "plt.figure(figsize=(13, 7))\n",
        "plt.scatter(miles_tips_yc_sub[\"trip_miles\"], miles_tips_yc_sub[\"tips\"], s=5)\n",
        "plt.yscale('symlog')\n",
        "plt.xscale('symlog')\n",
        "plt.xlabel('miles traveled', fontsize=15)\n",
        "plt.ylabel('tips (USD)', fontsize=15)\n",
        "plt.title('Trip miles vs Tips for Yellow Cab', fontsize=15)"
      ],
      "execution_count": null,
      "outputs": [
        {
          "output_type": "execute_result",
          "data": {
            "text/plain": [
              "Text(0.5, 1.0, 'Trip miles vs Tips for Yellow Cab')"
            ]
          },
          "metadata": {
            "tags": []
          },
          "execution_count": 15
        },
        {
          "output_type": "display_data",
          "data": {
            "image/png": "[encoded data removed]",
            "text/plain": [
              "<Figure size 936x504 with 1 Axes>"
            ]
          },
          "metadata": {
            "tags": [],
            "needs_background": "light"
          }
        }
      ]
    },
    {
      "cell_type": "code",
      "metadata": {
        "id": "0M7jYSeBRBKM"
      },
      "source": [
        "%%bigquery --project $project_id seconds_tips_yc\n",
        "SELECT DISTINCT trip_seconds, tips\n",
        "FROM `bigquery-public-data.chicago_taxi_trips.taxi_trips`\n",
        "WHERE tips>0 AND company LIKE 'Yellow Cab'"
      ],
      "execution_count": null,
      "outputs": []
    },
    {
      "cell_type": "code",
      "metadata": {
        "colab": {
          "base_uri": "https://localhost:8080/",
          "height": 486
        },
        "id": "UVYrskygRI4b",
        "outputId": "45f917fc-d2c7-4ad5-cc12-891c2ab0afcb"
      },
      "source": [
        "seconds_tips_yc_sub = seconds_tips_yc.sample(2000)\n",
        "plt.figure(figsize=(13, 7))\n",
        "plt.scatter(seconds_tips_yc_sub[\"trip_seconds\"], seconds_tips_yc_sub[\"tips\"], s=5)\n",
        "plt.yscale('symlog')\n",
        "plt.xscale('symlog')\n",
        "plt.xlabel('trip duration (s)', fontsize=15)\n",
        "plt.ylabel('tips (USD)', fontsize=15)\n",
        "plt.title('Trip duration vs Tips for Yellow Cab', fontsize=15)"
      ],
      "execution_count": null,
      "outputs": [
        {
          "output_type": "execute_result",
          "data": {
            "text/plain": [
              "Text(0.5, 1.0, 'Trip duration vs Tips for Yellow Cab')"
            ]
          },
          "metadata": {
            "tags": []
          },
          "execution_count": 17
        },
        {
          "output_type": "display_data",
          "data": {
            "image/png": "[encoded data removed]",
            "text/plain": [
              "<Figure size 936x504 with 1 Axes>"
            ]
          },
          "metadata": {
            "tags": [],
            "needs_background": "light"
          }
        }
      ]
    },
    {
      "cell_type": "code",
      "metadata": {
        "id": "_nJzfAmGRXnR"
      },
      "source": [
        "%%bigquery --project $project_id fare_tips_yc\n",
        "SELECT DISTINCT fare, tips\n",
        "FROM `bigquery-public-data.chicago_taxi_trips.taxi_trips`\n",
        "WHERE tips>0 AND company LIKE 'Yellow Cab'"
      ],
      "execution_count": null,
      "outputs": []
    },
    {
      "cell_type": "code",
      "metadata": {
        "colab": {
          "base_uri": "https://localhost:8080/",
          "height": 486
        },
        "id": "LD7aRKaLRYl1",
        "outputId": "2e7a8f74-9105-4c81-b68a-cf6fbdf19d08"
      },
      "source": [
        "fare_tips_yc_sub = fare_tips_yc.sample(2000)\n",
        "plt.figure(figsize=(13, 7))\n",
        "plt.scatter(fare_tips_yc_sub[\"fare\"], fare_tips_yc_sub[\"tips\"], s=5)\n",
        "plt.yscale('symlog')\n",
        "plt.xscale('symlog')\n",
        "plt.xlabel('trip fare (USD)', fontsize=15)\n",
        "plt.ylabel('tips (USD)', fontsize=15)\n",
        "plt.title('Trip fare vs Tips for Yellow Cab', fontsize=15)"
      ],
      "execution_count": null,
      "outputs": [
        {
          "output_type": "execute_result",
          "data": {
            "text/plain": [
              "Text(0.5, 1.0, 'Trip fare vs Tips for Yellow Cab')"
            ]
          },
          "metadata": {
            "tags": []
          },
          "execution_count": 19
        },
        {
          "output_type": "display_data",
          "data": {
            "image/png": "[encoded data removed]",
            "text/plain": [
              "<Figure size 936x504 with 1 Axes>"
            ]
          },
          "metadata": {
            "tags": [],
            "needs_background": "light"
          }
        }
      ]
    },
    {
      "cell_type": "markdown",
      "metadata": {
        "id": "NhFSJifsiC1U"
      },
      "source": [
        "## Data Prediction"
      ]
    },
    {
      "cell_type": "markdown",
      "metadata": {
        "id": "ofeY7XQuyhOU"
      },
      "source": [
        "---\n",
        "\n",
        "*AS mentioned earlier we will use only non zero value of tips to refrain from any anomalies in training our models. We will split data \n",
        "Training: trip start time < 2016-01-01\n",
        "Validation: trip start time between 2016-01-01 and 2017-01-01\n",
        "Test: trip start time between 2017-01-01 and 2018-01-01\n",
        "\n",
        "*Note that since from the above visualization, we found the linear relation between distance, duration, fare and tips is in log-log scale; therefore,\n",
        "we take the log of both feature and label to make sure they also exhibit the linear relation.*\n",
        "\n",
        "---"
      ]
    },
    {
      "cell_type": "code",
      "metadata": {
        "colab": {
          "base_uri": "https://localhost:8080/",
          "height": 32
        },
        "id": "GTueXiMvSqjN",
        "outputId": "17899b50-0feb-4b70-9955-96cff505b957"
      },
      "source": [
        "%%bigquery --project $project_id\n",
        "CREATE OR REPLACE MODEL `chicago_taxi_fare.chicago_taxi_tips_model_v1`\n",
        "OPTIONS(model_type='linear_reg') AS\n",
        "SELECT DISTINCT\n",
        "LOG(tips+1) AS label,\n",
        "LOG(trip_miles+1) AS feature1\n",
        "FROM\n",
        "`bigquery-public-data.chicago_taxi_trips.taxi_trips`\n",
        "WHERE\n",
        "trip_start_timestamp < '2016-01-01' AND tips>0"
      ],
      "execution_count": null,
      "outputs": [
        {
          "output_type": "execute_result",
          "data": {
            "text/html": [
              "<div>\n",
              "<style scoped>\n",
              "    .dataframe tbody tr th:only-of-type {\n",
              "        vertical-align: middle;\n",
              "    }\n",
              "\n",
              "    .dataframe tbody tr th {\n",
              "        vertical-align: top;\n",
              "    }\n",
              "\n",
              "    .dataframe thead th {\n",
              "        text-align: right;\n",
              "    }\n",
              "</style>\n",
              "<table border=\"1\" class=\"dataframe\">\n",
              "  <thead>\n",
              "    <tr style=\"text-align: right;\">\n",
              "      <th></th>\n",
              "    </tr>\n",
              "  </thead>\n",
              "  <tbody>\n",
              "  </tbody>\n",
              "</table>\n",
              "</div>"
            ],
            "text/plain": [
              "Empty DataFrame\n",
              "Columns: []\n",
              "Index: []"
            ]
          },
          "metadata": {
            "tags": []
          },
          "execution_count": 20
        }
      ]
    },
    {
      "cell_type": "code",
      "metadata": {
        "colab": {
          "base_uri": "https://localhost:8080/",
          "height": 80
        },
        "id": "p8Pmy5iES29Q",
        "outputId": "e1b04f9b-60d0-4f3c-a564-0010095cd678"
      },
      "source": [
        "%%bigquery --project $project_id\n",
        "SELECT\n",
        "*\n",
        "FROM\n",
        "ML.TRAINING_INFO(MODEL `chicago_taxi_fare.chicago_taxi_tips_model_v1`)"
      ],
      "execution_count": null,
      "outputs": [
        {
          "output_type": "execute_result",
          "data": {
            "text/html": [
              "<div>\n",
              "<style scoped>\n",
              "    .dataframe tbody tr th:only-of-type {\n",
              "        vertical-align: middle;\n",
              "    }\n",
              "\n",
              "    .dataframe tbody tr th {\n",
              "        vertical-align: top;\n",
              "    }\n",
              "\n",
              "    .dataframe thead th {\n",
              "        text-align: right;\n",
              "    }\n",
              "</style>\n",
              "<table border=\"1\" class=\"dataframe\">\n",
              "  <thead>\n",
              "    <tr style=\"text-align: right;\">\n",
              "      <th></th>\n",
              "      <th>training_run</th>\n",
              "      <th>iteration</th>\n",
              "      <th>loss</th>\n",
              "      <th>eval_loss</th>\n",
              "      <th>learning_rate</th>\n",
              "      <th>duration_ms</th>\n",
              "    </tr>\n",
              "  </thead>\n",
              "  <tbody>\n",
              "    <tr>\n",
              "      <th>0</th>\n",
              "      <td>0</td>\n",
              "      <td>0</td>\n",
              "      <td>0.438542</td>\n",
              "      <td>0.435014</td>\n",
              "      <td>None</td>\n",
              "      <td>5764</td>\n",
              "    </tr>\n",
              "  </tbody>\n",
              "</table>\n",
              "</div>"
            ],
            "text/plain": [
              "   training_run  iteration      loss  eval_loss learning_rate  duration_ms\n",
              "0             0          0  0.438542   0.435014          None         5764"
            ]
          },
          "metadata": {
            "tags": []
          },
          "execution_count": 21
        }
      ]
    },
    {
      "cell_type": "code",
      "metadata": {
        "colab": {
          "base_uri": "https://localhost:8080/",
          "height": 80
        },
        "id": "SbhHCH0TS41f",
        "outputId": "046c1f52-c8bf-4b2b-bbd2-768b56dd1a5a"
      },
      "source": [
        "%%bigquery --project $project_id\n",
        "# YOUR QUERY HERE\n",
        "SELECT\n",
        "*\n",
        "FROM\n",
        "ML.EVALUATE(MODEL `chicago_taxi_fare.chicago_taxi_tips_model_v1`, (\n",
        "SELECT DISTINCT\n",
        "LOG(tips+1) AS label,\n",
        "LOG(trip_miles+1) AS feature1\n",
        "FROM\n",
        "`bigquery-public-data.chicago_taxi_trips.taxi_trips`\n",
        "WHERE\n",
        "trip_start_timestamp BETWEEN '2016-01-01' AND '2017-01-01' AND tips>0))"
      ],
      "execution_count": null,
      "outputs": [
        {
          "output_type": "execute_result",
          "data": {
            "text/html": [
              "<div>\n",
              "<style scoped>\n",
              "    .dataframe tbody tr th:only-of-type {\n",
              "        vertical-align: middle;\n",
              "    }\n",
              "\n",
              "    .dataframe tbody tr th {\n",
              "        vertical-align: top;\n",
              "    }\n",
              "\n",
              "    .dataframe thead th {\n",
              "        text-align: right;\n",
              "    }\n",
              "</style>\n",
              "<table border=\"1\" class=\"dataframe\">\n",
              "  <thead>\n",
              "    <tr style=\"text-align: right;\">\n",
              "      <th></th>\n",
              "      <th>mean_absolute_error</th>\n",
              "      <th>mean_squared_error</th>\n",
              "      <th>mean_squared_log_error</th>\n",
              "      <th>median_absolute_error</th>\n",
              "      <th>r2_score</th>\n",
              "      <th>explained_variance</th>\n",
              "    </tr>\n",
              "  </thead>\n",
              "  <tbody>\n",
              "    <tr>\n",
              "      <th>0</th>\n",
              "      <td>0.449509</td>\n",
              "      <td>0.36731</td>\n",
              "      <td>0.05036</td>\n",
              "      <td>0.347039</td>\n",
              "      <td>0.167142</td>\n",
              "      <td>0.170534</td>\n",
              "    </tr>\n",
              "  </tbody>\n",
              "</table>\n",
              "</div>"
            ],
            "text/plain": [
              "   mean_absolute_error  mean_squared_error  ...  r2_score  explained_variance\n",
              "0             0.449509             0.36731  ...  0.167142            0.170534\n",
              "\n",
              "[1 rows x 6 columns]"
            ]
          },
          "metadata": {
            "tags": []
          },
          "execution_count": 22
        }
      ]
    },
    {
      "cell_type": "code",
      "metadata": {
        "colab": {
          "base_uri": "https://localhost:8080/",
          "height": 32
        },
        "id": "v6ICGzuvTDHc",
        "outputId": "614f90fc-ce45-4ab5-deee-278a5962c3f0"
      },
      "source": [
        "%%bigquery --project $project_id\n",
        "CREATE OR REPLACE MODEL `chicago_taxi_fare.chicago_taxi_tips_model_v2`\n",
        "OPTIONS(model_type='linear_reg') AS\n",
        "SELECT DISTINCT\n",
        "LOG(tips+1) AS label,\n",
        "LOG(trip_seconds+1) AS feature1\n",
        "FROM\n",
        "`bigquery-public-data.chicago_taxi_trips.taxi_trips`\n",
        "WHERE\n",
        "trip_start_timestamp < '2016-01-01' AND tips>0"
      ],
      "execution_count": null,
      "outputs": [
        {
          "output_type": "execute_result",
          "data": {
            "text/html": [
              "<div>\n",
              "<style scoped>\n",
              "    .dataframe tbody tr th:only-of-type {\n",
              "        vertical-align: middle;\n",
              "    }\n",
              "\n",
              "    .dataframe tbody tr th {\n",
              "        vertical-align: top;\n",
              "    }\n",
              "\n",
              "    .dataframe thead th {\n",
              "        text-align: right;\n",
              "    }\n",
              "</style>\n",
              "<table border=\"1\" class=\"dataframe\">\n",
              "  <thead>\n",
              "    <tr style=\"text-align: right;\">\n",
              "      <th></th>\n",
              "    </tr>\n",
              "  </thead>\n",
              "  <tbody>\n",
              "  </tbody>\n",
              "</table>\n",
              "</div>"
            ],
            "text/plain": [
              "Empty DataFrame\n",
              "Columns: []\n",
              "Index: []"
            ]
          },
          "metadata": {
            "tags": []
          },
          "execution_count": 23
        }
      ]
    },
    {
      "cell_type": "code",
      "metadata": {
        "colab": {
          "base_uri": "https://localhost:8080/",
          "height": 80
        },
        "id": "W0w-2F7NTSY-",
        "outputId": "c7a65b5d-840a-48ff-c18c-5dc2b8ce6d15"
      },
      "source": [
        "%%bigquery --project $project_id\n",
        "SELECT\n",
        "*\n",
        "FROM\n",
        "ML.TRAINING_INFO(MODEL `chicago_taxi_fare.chicago_taxi_tips_model_v2`)"
      ],
      "execution_count": null,
      "outputs": [
        {
          "output_type": "execute_result",
          "data": {
            "text/html": [
              "<div>\n",
              "<style scoped>\n",
              "    .dataframe tbody tr th:only-of-type {\n",
              "        vertical-align: middle;\n",
              "    }\n",
              "\n",
              "    .dataframe tbody tr th {\n",
              "        vertical-align: top;\n",
              "    }\n",
              "\n",
              "    .dataframe thead th {\n",
              "        text-align: right;\n",
              "    }\n",
              "</style>\n",
              "<table border=\"1\" class=\"dataframe\">\n",
              "  <thead>\n",
              "    <tr style=\"text-align: right;\">\n",
              "      <th></th>\n",
              "      <th>training_run</th>\n",
              "      <th>iteration</th>\n",
              "      <th>loss</th>\n",
              "      <th>eval_loss</th>\n",
              "      <th>learning_rate</th>\n",
              "      <th>duration_ms</th>\n",
              "    </tr>\n",
              "  </thead>\n",
              "  <tbody>\n",
              "    <tr>\n",
              "      <th>0</th>\n",
              "      <td>0</td>\n",
              "      <td>0</td>\n",
              "      <td>0.309395</td>\n",
              "      <td>0.301619</td>\n",
              "      <td>None</td>\n",
              "      <td>9027</td>\n",
              "    </tr>\n",
              "  </tbody>\n",
              "</table>\n",
              "</div>"
            ],
            "text/plain": [
              "   training_run  iteration      loss  eval_loss learning_rate  duration_ms\n",
              "0             0          0  0.309395   0.301619          None         9027"
            ]
          },
          "metadata": {
            "tags": []
          },
          "execution_count": 24
        }
      ]
    },
    {
      "cell_type": "code",
      "metadata": {
        "colab": {
          "base_uri": "https://localhost:8080/",
          "height": 80
        },
        "id": "qVRDsBF1Tacl",
        "outputId": "e2f54221-c3df-40d1-e5b5-14729b507d9e"
      },
      "source": [
        "%%bigquery --project $project_id\n",
        "# YOUR QUERY HERE\n",
        "SELECT\n",
        "*\n",
        "FROM\n",
        "ML.EVALUATE(MODEL `chicago_taxi_fare.chicago_taxi_tips_model_v2`, (\n",
        "SELECT DISTINCT\n",
        "LOG(tips+1) AS label,\n",
        "LOG(trip_seconds+1) AS feature1\n",
        "FROM\n",
        "`bigquery-public-data.chicago_taxi_trips.taxi_trips`\n",
        "WHERE\n",
        "trip_start_timestamp BETWEEN '2016-01-01' AND '2017-01-01' AND tips>0))"
      ],
      "execution_count": null,
      "outputs": [
        {
          "output_type": "execute_result",
          "data": {
            "text/html": [
              "<div>\n",
              "<style scoped>\n",
              "    .dataframe tbody tr th:only-of-type {\n",
              "        vertical-align: middle;\n",
              "    }\n",
              "\n",
              "    .dataframe tbody tr th {\n",
              "        vertical-align: top;\n",
              "    }\n",
              "\n",
              "    .dataframe thead th {\n",
              "        text-align: right;\n",
              "    }\n",
              "</style>\n",
              "<table border=\"1\" class=\"dataframe\">\n",
              "  <thead>\n",
              "    <tr style=\"text-align: right;\">\n",
              "      <th></th>\n",
              "      <th>mean_absolute_error</th>\n",
              "      <th>mean_squared_error</th>\n",
              "      <th>mean_squared_log_error</th>\n",
              "      <th>median_absolute_error</th>\n",
              "      <th>r2_score</th>\n",
              "      <th>explained_variance</th>\n",
              "    </tr>\n",
              "  </thead>\n",
              "  <tbody>\n",
              "    <tr>\n",
              "      <th>0</th>\n",
              "      <td>0.423385</td>\n",
              "      <td>0.29236</td>\n",
              "      <td>0.039235</td>\n",
              "      <td>0.369822</td>\n",
              "      <td>0.065059</td>\n",
              "      <td>0.093838</td>\n",
              "    </tr>\n",
              "  </tbody>\n",
              "</table>\n",
              "</div>"
            ],
            "text/plain": [
              "   mean_absolute_error  mean_squared_error  ...  r2_score  explained_variance\n",
              "0             0.423385             0.29236  ...  0.065059            0.093838\n",
              "\n",
              "[1 rows x 6 columns]"
            ]
          },
          "metadata": {
            "tags": []
          },
          "execution_count": 25
        }
      ]
    },
    {
      "cell_type": "code",
      "metadata": {
        "colab": {
          "base_uri": "https://localhost:8080/",
          "height": 32
        },
        "id": "DLtWfhAD7871",
        "outputId": "d6f0d44f-b7e2-469c-dbfa-fefc9694fe56"
      },
      "source": [
        "%%bigquery --project $project_id\n",
        "CREATE OR REPLACE MODEL `chicago_taxi.chicago_taxi_tips_model_v3`\n",
        "OPTIONS(model_type='linear_reg') AS\n",
        "SELECT DISTINCT\n",
        "LOG(tips+1) AS label,\n",
        "LOG(trip_seconds+1) AS feature1,\n",
        "LOG(trip_miles+1) AS feature2\n",
        "FROM\n",
        "`bigquery-public-data.chicago_taxi_trips.taxi_trips`\n",
        "WHERE\n",
        "trip_start_timestamp < '2016-01-01' AND tips>0"
      ],
      "execution_count": null,
      "outputs": [
        {
          "output_type": "execute_result",
          "data": {
            "text/html": [
              "<div>\n",
              "<style scoped>\n",
              "    .dataframe tbody tr th:only-of-type {\n",
              "        vertical-align: middle;\n",
              "    }\n",
              "\n",
              "    .dataframe tbody tr th {\n",
              "        vertical-align: top;\n",
              "    }\n",
              "\n",
              "    .dataframe thead th {\n",
              "        text-align: right;\n",
              "    }\n",
              "</style>\n",
              "<table border=\"1\" class=\"dataframe\">\n",
              "  <thead>\n",
              "    <tr style=\"text-align: right;\">\n",
              "      <th></th>\n",
              "    </tr>\n",
              "  </thead>\n",
              "  <tbody>\n",
              "  </tbody>\n",
              "</table>\n",
              "</div>"
            ],
            "text/plain": [
              "Empty DataFrame\n",
              "Columns: []\n",
              "Index: []"
            ]
          },
          "metadata": {
            "tags": []
          },
          "execution_count": 20
        }
      ]
    },
    {
      "cell_type": "code",
      "metadata": {
        "colab": {
          "base_uri": "https://localhost:8080/",
          "height": 80
        },
        "id": "MnV9gnGa8ucV",
        "outputId": "0f5d8774-28fd-4971-a95b-8ba4537acd13"
      },
      "source": [
        "%%bigquery --project $project_id\n",
        "SELECT\n",
        "*\n",
        "FROM\n",
        "ML.TRAINING_INFO(MODEL `chicago_taxi.chicago_taxi_tips_model_v3`)"
      ],
      "execution_count": null,
      "outputs": [
        {
          "output_type": "execute_result",
          "data": {
            "text/html": [
              "<div>\n",
              "<style scoped>\n",
              "    .dataframe tbody tr th:only-of-type {\n",
              "        vertical-align: middle;\n",
              "    }\n",
              "\n",
              "    .dataframe tbody tr th {\n",
              "        vertical-align: top;\n",
              "    }\n",
              "\n",
              "    .dataframe thead th {\n",
              "        text-align: right;\n",
              "    }\n",
              "</style>\n",
              "<table border=\"1\" class=\"dataframe\">\n",
              "  <thead>\n",
              "    <tr style=\"text-align: right;\">\n",
              "      <th></th>\n",
              "      <th>training_run</th>\n",
              "      <th>iteration</th>\n",
              "      <th>loss</th>\n",
              "      <th>eval_loss</th>\n",
              "      <th>learning_rate</th>\n",
              "      <th>duration_ms</th>\n",
              "    </tr>\n",
              "  </thead>\n",
              "  <tbody>\n",
              "    <tr>\n",
              "      <th>0</th>\n",
              "      <td>0</td>\n",
              "      <td>0</td>\n",
              "      <td>0.224457</td>\n",
              "      <td>0.220545</td>\n",
              "      <td>None</td>\n",
              "      <td>24470</td>\n",
              "    </tr>\n",
              "  </tbody>\n",
              "</table>\n",
              "</div>"
            ],
            "text/plain": [
              "   training_run  iteration      loss  eval_loss learning_rate  duration_ms\n",
              "0             0          0  0.224457   0.220545          None        24470"
            ]
          },
          "metadata": {
            "tags": []
          },
          "execution_count": 21
        }
      ]
    },
    {
      "cell_type": "code",
      "metadata": {
        "colab": {
          "base_uri": "https://localhost:8080/",
          "height": 80
        },
        "id": "Iw5szasC82Mn",
        "outputId": "65c5d772-feeb-4d29-afb6-82c7e6e3b926"
      },
      "source": [
        "%%bigquery --project $project_id\n",
        "# YOUR QUERY HERE\n",
        "SELECT *\n",
        "FROM\n",
        "ML.EVALUATE(MODEL `chicago_taxi.chicago_taxi_tips_model_v3`, (\n",
        "SELECT DISTINCT\n",
        "LOG(tips+1) AS label,\n",
        "LOG(trip_seconds+1) AS feature1,\n",
        "LOG(trip_miles+1) AS feature2\n",
        "FROM\n",
        "`bigquery-public-data.chicago_taxi_trips.taxi_trips`\n",
        "WHERE\n",
        "trip_start_timestamp BETWEEN '2016-01-01' AND '2017-01-01' AND tips>0))"
      ],
      "execution_count": null,
      "outputs": [
        {
          "output_type": "execute_result",
          "data": {
            "text/html": [
              "<div>\n",
              "<style scoped>\n",
              "    .dataframe tbody tr th:only-of-type {\n",
              "        vertical-align: middle;\n",
              "    }\n",
              "\n",
              "    .dataframe tbody tr th {\n",
              "        vertical-align: top;\n",
              "    }\n",
              "\n",
              "    .dataframe thead th {\n",
              "        text-align: right;\n",
              "    }\n",
              "</style>\n",
              "<table border=\"1\" class=\"dataframe\">\n",
              "  <thead>\n",
              "    <tr style=\"text-align: right;\">\n",
              "      <th></th>\n",
              "      <th>mean_absolute_error</th>\n",
              "      <th>mean_squared_error</th>\n",
              "      <th>mean_squared_log_error</th>\n",
              "      <th>median_absolute_error</th>\n",
              "      <th>r2_score</th>\n",
              "      <th>explained_variance</th>\n",
              "    </tr>\n",
              "  </thead>\n",
              "  <tbody>\n",
              "    <tr>\n",
              "      <th>0</th>\n",
              "      <td>0.329475</td>\n",
              "      <td>0.195173</td>\n",
              "      <td>0.030569</td>\n",
              "      <td>0.27248</td>\n",
              "      <td>0.415901</td>\n",
              "      <td>0.420677</td>\n",
              "    </tr>\n",
              "  </tbody>\n",
              "</table>\n",
              "</div>"
            ],
            "text/plain": [
              "   mean_absolute_error  mean_squared_error  ...  r2_score  explained_variance\n",
              "0             0.329475            0.195173  ...  0.415901            0.420677\n",
              "\n",
              "[1 rows x 6 columns]"
            ]
          },
          "metadata": {
            "tags": []
          },
          "execution_count": 22
        }
      ]
    },
    {
      "cell_type": "code",
      "metadata": {
        "id": "DTxyITpq-qK6",
        "colab": {
          "base_uri": "https://localhost:8080/",
          "height": 32
        },
        "outputId": "83b74824-7210-47f9-c88d-02db748e3316"
      },
      "source": [
        "%%bigquery --project $project_id\n",
        "CREATE OR REPLACE MODEL `chicago_taxi_fare.chicago_taxi_tips_model_v4`\n",
        "OPTIONS(model_type='linear_reg') AS\n",
        "SELECT DISTINCT\n",
        "LOG(tips+1) AS label,\n",
        "LOG(trip_seconds+1) AS feature1,\n",
        "LOG(trip_miles+1) AS feature2,\n",
        "LOG(fare+1) AS feature3\n",
        "FROM\n",
        "`bigquery-public-data.chicago_taxi_trips.taxi_trips`\n",
        "WHERE\n",
        "trip_start_timestamp < '2016-01-01' AND tips>0"
      ],
      "execution_count": null,
      "outputs": [
        {
          "output_type": "execute_result",
          "data": {
            "text/html": [
              "<div>\n",
              "<style scoped>\n",
              "    .dataframe tbody tr th:only-of-type {\n",
              "        vertical-align: middle;\n",
              "    }\n",
              "\n",
              "    .dataframe tbody tr th {\n",
              "        vertical-align: top;\n",
              "    }\n",
              "\n",
              "    .dataframe thead th {\n",
              "        text-align: right;\n",
              "    }\n",
              "</style>\n",
              "<table border=\"1\" class=\"dataframe\">\n",
              "  <thead>\n",
              "    <tr style=\"text-align: right;\">\n",
              "      <th></th>\n",
              "    </tr>\n",
              "  </thead>\n",
              "  <tbody>\n",
              "  </tbody>\n",
              "</table>\n",
              "</div>"
            ],
            "text/plain": [
              "Empty DataFrame\n",
              "Columns: []\n",
              "Index: []"
            ]
          },
          "metadata": {
            "tags": []
          },
          "execution_count": 7
        }
      ]
    },
    {
      "cell_type": "code",
      "metadata": {
        "id": "lsGkj1nq_PbV",
        "colab": {
          "base_uri": "https://localhost:8080/",
          "height": 80
        },
        "outputId": "e5832577-37a8-47c5-babb-ad9fb807647f"
      },
      "source": [
        "%%bigquery --project $project_id\n",
        "SELECT\n",
        "*\n",
        "FROM\n",
        "ML.TRAINING_INFO(MODEL `chicago_taxi_fare.chicago_taxi_tips_model_v4`)"
      ],
      "execution_count": null,
      "outputs": [
        {
          "output_type": "execute_result",
          "data": {
            "text/html": [
              "<div>\n",
              "<style scoped>\n",
              "    .dataframe tbody tr th:only-of-type {\n",
              "        vertical-align: middle;\n",
              "    }\n",
              "\n",
              "    .dataframe tbody tr th {\n",
              "        vertical-align: top;\n",
              "    }\n",
              "\n",
              "    .dataframe thead th {\n",
              "        text-align: right;\n",
              "    }\n",
              "</style>\n",
              "<table border=\"1\" class=\"dataframe\">\n",
              "  <thead>\n",
              "    <tr style=\"text-align: right;\">\n",
              "      <th></th>\n",
              "      <th>training_run</th>\n",
              "      <th>iteration</th>\n",
              "      <th>loss</th>\n",
              "      <th>eval_loss</th>\n",
              "      <th>learning_rate</th>\n",
              "      <th>duration_ms</th>\n",
              "    </tr>\n",
              "  </thead>\n",
              "  <tbody>\n",
              "    <tr>\n",
              "      <th>0</th>\n",
              "      <td>0</td>\n",
              "      <td>0</td>\n",
              "      <td>0.150985</td>\n",
              "      <td>0.146353</td>\n",
              "      <td>None</td>\n",
              "      <td>17407</td>\n",
              "    </tr>\n",
              "  </tbody>\n",
              "</table>\n",
              "</div>"
            ],
            "text/plain": [
              "   training_run  iteration      loss  eval_loss learning_rate  duration_ms\n",
              "0             0          0  0.150985   0.146353          None        17407"
            ]
          },
          "metadata": {
            "tags": []
          },
          "execution_count": 8
        }
      ]
    },
    {
      "cell_type": "code",
      "metadata": {
        "id": "ouwc8weL_P1X",
        "colab": {
          "base_uri": "https://localhost:8080/",
          "height": 80
        },
        "outputId": "a4b39e2c-6d2b-413f-8dba-93c631b8816d"
      },
      "source": [
        "%%bigquery --project $project_id\n",
        "# YOUR QUERY HERE\n",
        "SELECT\n",
        "*\n",
        "FROM\n",
        "ML.EVALUATE(MODEL `chicago_taxi_fare.chicago_taxi_tips_model_v4`, (\n",
        "SELECT DISTINCT\n",
        "LOG(tips+1) AS label,\n",
        "LOG(trip_seconds+1) AS feature1,\n",
        "LOG(trip_miles+1) AS feature2,\n",
        "LOG(fare+1) AS feature3\n",
        "FROM\n",
        "`bigquery-public-data.chicago_taxi_trips.taxi_trips`\n",
        "WHERE\n",
        "trip_start_timestamp BETWEEN '2016-01-01' AND '2017-01-01' AND tips>0))"
      ],
      "execution_count": null,
      "outputs": [
        {
          "output_type": "execute_result",
          "data": {
            "text/html": [
              "<div>\n",
              "<style scoped>\n",
              "    .dataframe tbody tr th:only-of-type {\n",
              "        vertical-align: middle;\n",
              "    }\n",
              "\n",
              "    .dataframe tbody tr th {\n",
              "        vertical-align: top;\n",
              "    }\n",
              "\n",
              "    .dataframe thead th {\n",
              "        text-align: right;\n",
              "    }\n",
              "</style>\n",
              "<table border=\"1\" class=\"dataframe\">\n",
              "  <thead>\n",
              "    <tr style=\"text-align: right;\">\n",
              "      <th></th>\n",
              "      <th>mean_absolute_error</th>\n",
              "      <th>mean_squared_error</th>\n",
              "      <th>mean_squared_log_error</th>\n",
              "      <th>median_absolute_error</th>\n",
              "      <th>r2_score</th>\n",
              "      <th>explained_variance</th>\n",
              "    </tr>\n",
              "  </thead>\n",
              "  <tbody>\n",
              "    <tr>\n",
              "      <th>0</th>\n",
              "      <td>0.299485</td>\n",
              "      <td>0.273187</td>\n",
              "      <td>0.096073</td>\n",
              "      <td>0.173852</td>\n",
              "      <td>0.201932</td>\n",
              "      <td>0.212272</td>\n",
              "    </tr>\n",
              "  </tbody>\n",
              "</table>\n",
              "</div>"
            ],
            "text/plain": [
              "   mean_absolute_error  mean_squared_error  ...  r2_score  explained_variance\n",
              "0             0.299485            0.273187  ...  0.201932            0.212272\n",
              "\n",
              "[1 rows x 6 columns]"
            ]
          },
          "metadata": {
            "tags": []
          },
          "execution_count": 9
        }
      ]
    },
    {
      "cell_type": "code",
      "metadata": {
        "colab": {
          "base_uri": "https://localhost:8080/",
          "height": 359
        },
        "id": "p9gT1kvMTyqB",
        "outputId": "055b4963-e032-4033-d82c-223577d127d7"
      },
      "source": [
        "%%bigquery --project $project_id\n",
        "# YOUR QUERY HERE\n",
        "SELECT\n",
        "*\n",
        "FROM\n",
        " ML.PREDICT(MODEL `chicago_taxi_fare.chicago_taxi_tips_model_v2`, (\n",
        "SELECT DISTINCT\n",
        "LOG(trip_seconds+1) AS feature1,\n",
        "LOG(trip_miles+1) AS feature2,\n",
        "LOG(fare+1) AS feature3\n",
        "FROM\n",
        " `bigquery-public-data.chicago_taxi_trips.taxi_trips`\n",
        "WHERE\n",
        " trip_start_timestamp BETWEEN '2017-01-01' AND '2018-01-01' AND tips=0.0 AND company LIKE 'Yellow Cab' AND payment_type LIKE 'Cash'\n",
        "LIMIT 10)) "
      ],
      "execution_count": null,
      "outputs": [
        {
          "output_type": "execute_result",
          "data": {
            "text/html": [
              "<div>\n",
              "<style scoped>\n",
              "    .dataframe tbody tr th:only-of-type {\n",
              "        vertical-align: middle;\n",
              "    }\n",
              "\n",
              "    .dataframe tbody tr th {\n",
              "        vertical-align: top;\n",
              "    }\n",
              "\n",
              "    .dataframe thead th {\n",
              "        text-align: right;\n",
              "    }\n",
              "</style>\n",
              "<table border=\"1\" class=\"dataframe\">\n",
              "  <thead>\n",
              "    <tr style=\"text-align: right;\">\n",
              "      <th></th>\n",
              "      <th>predicted_label</th>\n",
              "      <th>feature1</th>\n",
              "      <th>feature2</th>\n",
              "      <th>feature3</th>\n",
              "    </tr>\n",
              "  </thead>\n",
              "  <tbody>\n",
              "    <tr>\n",
              "      <th>0</th>\n",
              "      <td>1.818325</td>\n",
              "      <td>6.968850</td>\n",
              "      <td>0.693147</td>\n",
              "      <td>2.351375</td>\n",
              "    </tr>\n",
              "    <tr>\n",
              "      <th>1</th>\n",
              "      <td>1.618514</td>\n",
              "      <td>5.389072</td>\n",
              "      <td>0.530628</td>\n",
              "      <td>1.832581</td>\n",
              "    </tr>\n",
              "    <tr>\n",
              "      <th>2</th>\n",
              "      <td>1.848649</td>\n",
              "      <td>7.208600</td>\n",
              "      <td>2.186051</td>\n",
              "      <td>3.188417</td>\n",
              "    </tr>\n",
              "    <tr>\n",
              "      <th>3</th>\n",
              "      <td>1.780463</td>\n",
              "      <td>6.669498</td>\n",
              "      <td>1.435085</td>\n",
              "      <td>2.583998</td>\n",
              "    </tr>\n",
              "    <tr>\n",
              "      <th>4</th>\n",
              "      <td>1.774884</td>\n",
              "      <td>6.625392</td>\n",
              "      <td>1.163151</td>\n",
              "      <td>2.397895</td>\n",
              "    </tr>\n",
              "    <tr>\n",
              "      <th>5</th>\n",
              "      <td>1.642628</td>\n",
              "      <td>5.579730</td>\n",
              "      <td>0.530628</td>\n",
              "      <td>1.871802</td>\n",
              "    </tr>\n",
              "    <tr>\n",
              "      <th>6</th>\n",
              "      <td>1.763482</td>\n",
              "      <td>6.535241</td>\n",
              "      <td>1.945910</td>\n",
              "      <td>2.917771</td>\n",
              "    </tr>\n",
              "    <tr>\n",
              "      <th>7</th>\n",
              "      <td>1.703557</td>\n",
              "      <td>6.061457</td>\n",
              "      <td>0.993252</td>\n",
              "      <td>2.169054</td>\n",
              "    </tr>\n",
              "    <tr>\n",
              "      <th>8</th>\n",
              "      <td>1.747455</td>\n",
              "      <td>6.408529</td>\n",
              "      <td>1.386294</td>\n",
              "      <td>2.442347</td>\n",
              "    </tr>\n",
              "    <tr>\n",
              "      <th>9</th>\n",
              "      <td>1.683469</td>\n",
              "      <td>5.902633</td>\n",
              "      <td>0.993252</td>\n",
              "      <td>2.110213</td>\n",
              "    </tr>\n",
              "  </tbody>\n",
              "</table>\n",
              "</div>"
            ],
            "text/plain": [
              "   predicted_label  feature1  feature2  feature3\n",
              "0         1.818325  6.968850  0.693147  2.351375\n",
              "1         1.618514  5.389072  0.530628  1.832581\n",
              "2         1.848649  7.208600  2.186051  3.188417\n",
              "3         1.780463  6.669498  1.435085  2.583998\n",
              "4         1.774884  6.625392  1.163151  2.397895\n",
              "5         1.642628  5.579730  0.530628  1.871802\n",
              "6         1.763482  6.535241  1.945910  2.917771\n",
              "7         1.703557  6.061457  0.993252  2.169054\n",
              "8         1.747455  6.408529  1.386294  2.442347\n",
              "9         1.683469  5.902633  0.993252  2.110213"
            ]
          },
          "metadata": {
            "tags": []
          },
          "execution_count": 28
        }
      ]
    },
    {
      "cell_type": "markdown",
      "metadata": {
        "id": "1Hc7y7ObXeGo"
      },
      "source": [
        "these are the  predictions for the tips payed by cash of the trips offered by Yellow Cab. "
      ]
    },
    {
      "cell_type": "markdown",
      "metadata": {
        "id": "Dg7Lhqi_yDcy"
      },
      "source": [
        "## Conclusion"
      ]
    },
    {
      "cell_type": "markdown",
      "metadata": {
        "id": "YmVpTigjyHMY"
      },
      "source": [
        "---\n",
        "\n",
        "* Only that company will receive more incentive and previliges on the terms of tips , means the more tips a company gets on average the more it will prosper in future as tips is depending on satisfaction of the rider i.eTaxi Affiliation Services\n",
        "* From the above exploration, we found that the tips of a taxi trip are correlated to traveling distance, duration and fare. We also make the predictions for the tips which are missing in the data.\n",
        "\n",
        "---"
      ]
    }
  ]
}